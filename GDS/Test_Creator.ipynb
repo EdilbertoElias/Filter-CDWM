{
 "cells": [
  {
   "cell_type": "code",
   "execution_count": 1,
   "id": "821c852c",
   "metadata": {},
   "outputs": [
    {
     "name": "stderr",
     "output_type": "stream",
     "text": [
      "2025-05-14 20:52:38,470 - INFO - Added Sequence\n",
      "2025-05-14 20:52:38,472 - INFO - This sequence will take approximately 8.75 seconds to run\n",
      "2025-05-14 20:53:32,350 - INFO - Linked sequence: CWDM(wavelength_sweep_ida) [8.75 secs] and device: openEBL_EDILBERTO_CWDM_200GHz_1\n",
      "2025-05-14 20:53:32,351 - INFO - Linked sequence: CWDM(wavelength_sweep_ida) [8.75 secs] and device: openEBL_EDILBERTO_CWDM_200GHz_8\n",
      "2025-05-14 20:53:32,352 - INFO - Linked sequence: CWDM(wavelength_sweep_ida) [8.75 secs] and device: EDILBERTO_CWDM_200GHz_1\n",
      "2025-05-14 20:54:13,262 - INFO - Linked sequence: CWDM(wavelength_sweep_ida) [8.75 secs] and device: openEBL_EDILBERTO_CWDM_200GHz_6\n",
      "2025-05-14 20:54:13,263 - INFO - Linked sequence: CWDM(wavelength_sweep_ida) [8.75 secs] and device: openEBL_EDILBERTO_CWDM_200GHz_3\n",
      "2025-05-14 20:54:13,264 - INFO - Linked sequence: CWDM(wavelength_sweep_ida) [8.75 secs] and device: openEBL_EDILBERTO_CWDM_200GHz_2\n",
      "2025-05-14 20:54:13,265 - INFO - Linked sequence: CWDM(wavelength_sweep_ida) [8.75 secs] and device: EDILBERTO_CWDM_200GHz_2\n",
      "2025-05-14 20:54:48,205 - INFO - Linked sequence: CWDM(wavelength_sweep_ida) [8.75 secs] and device: EDILBERTO_CWDM_200GHz_3\n",
      "2025-05-14 20:54:48,206 - INFO - Linked sequence: CWDM(wavelength_sweep_ida) [8.75 secs] and device: openEBL_EDILBERTO_CWDM_200GHz_4\n",
      "2025-05-14 20:54:48,208 - INFO - Linked sequence: CWDM(wavelength_sweep_ida) [8.75 secs] and device: openEBL_EDILBERTO_CWDM_200GHz_5\n",
      "2025-05-14 20:54:48,208 - INFO - Linked sequence: CWDM(wavelength_sweep_ida) [8.75 secs] and device: openEBL_EDILBERTO_CWDM_200GHz_7\n",
      "2025-05-14 20:55:28,361 - INFO - Total runtime 96.25 is within set threshold of 10000, proceeding with save.\n",
      "2025-05-14 20:55:28,369 - INFO - Saved to C:/Users/edilb/Documents/GitHub/Filter-CWDM/GDS/CWDM_200GHz_TEST_CREATOR.yaml\n"
     ]
    }
   ],
   "source": [
    "#Teste Creator\n",
    "\n",
    "from SiEPIC_TestCreator import sequencecreator as sc\n",
    "sc.launch()"
   ]
  }
 ],
 "metadata": {
  "kernelspec": {
   "display_name": "Python 3",
   "language": "python",
   "name": "python3"
  },
  "language_info": {
   "codemirror_mode": {
    "name": "ipython",
    "version": 3
   },
   "file_extension": ".py",
   "mimetype": "text/x-python",
   "name": "python",
   "nbconvert_exporter": "python",
   "pygments_lexer": "ipython3",
   "version": "3.11.9"
  }
 },
 "nbformat": 4,
 "nbformat_minor": 5
}
